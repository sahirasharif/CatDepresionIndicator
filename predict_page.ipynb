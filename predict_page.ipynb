{
 "cells": [
  {
   "cell_type": "code",
   "execution_count": 1,
   "id": "cbde88ba",
   "metadata": {},
   "outputs": [
    {
     "name": "stderr",
     "output_type": "stream",
     "text": [
      "2022-06-11 21:55:25.877 INFO    numexpr.utils: Note: NumExpr detected 12 cores but \"NUMEXPR_MAX_THREADS\" not set, so enforcing safe limit of 8.\n",
      "2022-06-11 21:55:25.881 INFO    numexpr.utils: NumExpr defaulting to 8 threads.\n"
     ]
    }
   ],
   "source": [
    "import streamlit as st\n",
    "import pickle\n",
    "import numpy as np\n",
    "from sklearn.linear_model import LogisticRegression\n",
    "logreg = LogisticRegression()"
   ]
  },
  {
   "cell_type": "code",
   "execution_count": 4,
   "id": "46c74bb3",
   "metadata": {},
   "outputs": [],
   "source": [
    "def load_model():\n",
    "    with open(r\"C:\\Users\\Sahira\\OneDrive - Universiti Malaya\\WID3006\\ML Cat Depression Indicator\\saved_steps.pkl\", 'rb') as file:\n",
    "        data = pickle.load(file)\n",
    "    return data\n",
    "\n",
    "data = load_model()\n",
    "\n",
    "regressor = data[\"model\"]\n",
    "le_obesity = data[\"le_obesity\"]\n",
    "le_appetite = data[\"le_appetite\"]"
   ]
  },
  {
   "cell_type": "code",
   "execution_count": 5,
   "id": "403ff0a5",
   "metadata": {},
   "outputs": [],
   "source": [
    "def show_predict_page():\n",
    "    st.title(\"Cat Depression Indicator\")\n",
    "    \n",
    "    st.write(\"\"\"### We need some information to predict how likely it is for your cat to be depressed\"\"\")\n",
    "\n",
    "    name = st.text_input('Meow-Meow name')\n",
    "\n",
    "    age = st.text_input('Meow-Meow age')\n",
    "\n",
    "    breed = st.text_input('Meow-Meow breed')\n",
    "    \n",
    "    rating = st.slider(\"Rate how cute is your meow-meow from 1-10\", 0, 10) \n",
    "    \n",
    "    x1 = st.slider(\"Is your cat obese\", 0, 1, 0.5)\n",
    "    x2 = st.slider(\"Is your cat lose appetite\", 0, 1, 0.5)\n",
    "    x3 = st.slider(\"Is your cat have more low-pitched meows\", 0, 1, 0.5)\n",
    "    x4 = st.slider(\"Poor grooming\", 0, 1, 0.5)\n",
    "    x5 = st.slider(\"Does your cat seem to lack energy\", 0, 1, 0.5)\n",
    "\n",
    "    ok = st.button(\"Check now\")\n",
    "    if ok:\n",
    "        x = np.array([[x1, x2, x3, x4, x5]])\n",
    "        x[:, 0] = le_obesity.transform(x[:, 0])\n",
    "        x[:, 1] = le_appetite.transform(x[:, 1])\n",
    "        x[:, 2] = le_obesity.transform(x[:, 2])\n",
    "        x[:, 3] = le_appetite.transform(x[:, 3])\n",
    "        x[:, 4] = le_obesity.transform(x[:, 4])\n",
    "        x = x.astype(int)\n",
    "        \n",
    "        depressed = logreg.predict(x)\n",
    "        st.subheader(f\"Your cat is ${depressed[0]}\")\n",
    "\n"
   ]
  },
  {
   "cell_type": "code",
   "execution_count": 8,
   "id": "e2c39d11",
   "metadata": {},
   "outputs": [],
   "source": [
    "def set_bg_hack_url():\n",
    "    '''\n",
    "    A function to unpack an image from url and set as bg.\n",
    "    Returns\n",
    "    -------\n",
    "    The background.\n",
    "    '''\n",
    "        \n",
    "    st.markdown(\n",
    "         f\"\"\"\n",
    "         <style>\n",
    "         .stApp {{\n",
    "             background: url(\"https://cdn.pixabay.com/photo/2020/06/19/22/33/wormhole-5319067_960_720.jpg\");\n",
    "             background-size: cover\n",
    "         }}\n",
    "         </style>\n",
    "         \"\"\",\n",
    "         unsafe_allow_html=True\n",
    "     )"
   ]
  },
  {
   "cell_type": "code",
   "execution_count": 9,
   "id": "5a247900",
   "metadata": {},
   "outputs": [
    {
     "name": "stderr",
     "output_type": "stream",
     "text": [
      "2022-06-05 00:59:54.545 \n",
      "  \u001b[33m\u001b[1mWarning:\u001b[0m to view this Streamlit app on a browser, run it with the following\n",
      "  command:\n",
      "\n",
      "    streamlit run C:\\Users\\Sahira\\anaconda3\\lib\\site-packages\\ipykernel_launcher.py [ARGUMENTS]\n"
     ]
    }
   ],
   "source": [
    "set_bg_hack_url()"
   ]
  },
  {
   "cell_type": "code",
   "execution_count": null,
   "id": "307657d3",
   "metadata": {},
   "outputs": [],
   "source": []
  }
 ],
 "metadata": {
  "kernelspec": {
   "display_name": "Python 3 (ipykernel)",
   "language": "python",
   "name": "python3"
  },
  "language_info": {
   "codemirror_mode": {
    "name": "ipython",
    "version": 3
   },
   "file_extension": ".py",
   "mimetype": "text/x-python",
   "name": "python",
   "nbconvert_exporter": "python",
   "pygments_lexer": "ipython3",
   "version": "3.9.7"
  }
 },
 "nbformat": 4,
 "nbformat_minor": 5
}
