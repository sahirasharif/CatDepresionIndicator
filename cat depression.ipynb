{
 "cells": [
  {
   "cell_type": "markdown",
   "id": "a9e20219",
   "metadata": {},
   "source": [
    "| Matrix No| Name | Occ |\n",
    "|----------|---------------------------------------|---------|\n",
    "| U2001271 | HANANIAH BASYIRAH BINTI MOHD BAKRI | Occ 3 |\n",
    "| U2001826 | NUR AINA BINTI SAIPULISMI | Occ 3 |\n",
    "| U2000897 | NUR IZYAN BINTI MOHD ARIS FATHILLAH | Occ 4 |\n",
    "| U2000935 | NUR DAMIA BINTI MOHD AZMIN | Occ 4 |\n",
    "| U2001222 | SAHIRA BINTI SHARIF | Occ 4 |"
   ]
  },
  {
   "cell_type": "code",
   "execution_count": 1,
   "id": "734e2bbf",
   "metadata": {},
   "outputs": [],
   "source": [
    "import pandas as pd\n",
    "import matplotlib.pyplot as plt\n",
    "\n",
    "df = pd.read_csv(\"CATDEPRESSIONDATA1.csv\")"
   ]
  },
  {
   "cell_type": "code",
   "execution_count": 2,
   "id": "a2c42d85",
   "metadata": {},
   "outputs": [
    {
     "data": {
      "text/html": [
       "<div>\n",
       "<style scoped>\n",
       "    .dataframe tbody tr th:only-of-type {\n",
       "        vertical-align: middle;\n",
       "    }\n",
       "\n",
       "    .dataframe tbody tr th {\n",
       "        vertical-align: top;\n",
       "    }\n",
       "\n",
       "    .dataframe thead th {\n",
       "        text-align: right;\n",
       "    }\n",
       "</style>\n",
       "<table border=\"1\" class=\"dataframe\">\n",
       "  <thead>\n",
       "    <tr style=\"text-align: right;\">\n",
       "      <th></th>\n",
       "      <th>x1,Obesity(1/0)</th>\n",
       "      <th>x2,Decreased appetite (1/0)</th>\n",
       "      <th>x3, More low-pitched meows(1/0)</th>\n",
       "      <th>x4, Poor grooming (1/0)</th>\n",
       "      <th>x5, lost of interest in playing</th>\n",
       "      <th>y, depressed or not(1/0)</th>\n",
       "    </tr>\n",
       "  </thead>\n",
       "  <tbody>\n",
       "    <tr>\n",
       "      <th>0</th>\n",
       "      <td>1</td>\n",
       "      <td>1</td>\n",
       "      <td>0</td>\n",
       "      <td>1</td>\n",
       "      <td>1</td>\n",
       "      <td>1</td>\n",
       "    </tr>\n",
       "    <tr>\n",
       "      <th>1</th>\n",
       "      <td>1</td>\n",
       "      <td>0</td>\n",
       "      <td>1</td>\n",
       "      <td>1</td>\n",
       "      <td>0</td>\n",
       "      <td>1</td>\n",
       "    </tr>\n",
       "    <tr>\n",
       "      <th>2</th>\n",
       "      <td>1</td>\n",
       "      <td>1</td>\n",
       "      <td>1</td>\n",
       "      <td>1</td>\n",
       "      <td>1</td>\n",
       "      <td>1</td>\n",
       "    </tr>\n",
       "    <tr>\n",
       "      <th>3</th>\n",
       "      <td>1</td>\n",
       "      <td>1</td>\n",
       "      <td>1</td>\n",
       "      <td>1</td>\n",
       "      <td>1</td>\n",
       "      <td>1</td>\n",
       "    </tr>\n",
       "    <tr>\n",
       "      <th>4</th>\n",
       "      <td>1</td>\n",
       "      <td>1</td>\n",
       "      <td>1</td>\n",
       "      <td>1</td>\n",
       "      <td>1</td>\n",
       "      <td>1</td>\n",
       "    </tr>\n",
       "  </tbody>\n",
       "</table>\n",
       "</div>"
      ],
      "text/plain": [
       "   x1,Obesity(1/0)  x2,Decreased appetite (1/0)  \\\n",
       "0                1                            1   \n",
       "1                1                            0   \n",
       "2                1                            1   \n",
       "3                1                            1   \n",
       "4                1                            1   \n",
       "\n",
       "   x3, More low-pitched meows(1/0)  x4, Poor grooming (1/0)  \\\n",
       "0                                0                        1   \n",
       "1                                1                        1   \n",
       "2                                1                        1   \n",
       "3                                1                        1   \n",
       "4                                1                        1   \n",
       "\n",
       "   x5, lost of interest in playing  y, depressed or not(1/0)  \n",
       "0                                1                         1  \n",
       "1                                0                         1  \n",
       "2                                1                         1  \n",
       "3                                1                         1  \n",
       "4                                1                         1  "
      ]
     },
     "execution_count": 2,
     "metadata": {},
     "output_type": "execute_result"
    }
   ],
   "source": [
    "df.head()"
   ]
  },
  {
   "cell_type": "code",
   "execution_count": 3,
   "id": "c7dccb8a",
   "metadata": {},
   "outputs": [
    {
     "data": {
      "text/html": [
       "<div>\n",
       "<style scoped>\n",
       "    .dataframe tbody tr th:only-of-type {\n",
       "        vertical-align: middle;\n",
       "    }\n",
       "\n",
       "    .dataframe tbody tr th {\n",
       "        vertical-align: top;\n",
       "    }\n",
       "\n",
       "    .dataframe thead th {\n",
       "        text-align: right;\n",
       "    }\n",
       "</style>\n",
       "<table border=\"1\" class=\"dataframe\">\n",
       "  <thead>\n",
       "    <tr style=\"text-align: right;\">\n",
       "      <th></th>\n",
       "      <th>x1,Obesity(1/0)</th>\n",
       "      <th>x2,Decreased appetite (1/0)</th>\n",
       "      <th>x3, More low-pitched meows(1/0)</th>\n",
       "      <th>x4, Poor grooming (1/0)</th>\n",
       "      <th>x5, Lack of energy(1/0)</th>\n",
       "      <th>y, depressed or not(1/0)</th>\n",
       "    </tr>\n",
       "  </thead>\n",
       "  <tbody>\n",
       "    <tr>\n",
       "      <th>0</th>\n",
       "      <td>1</td>\n",
       "      <td>1</td>\n",
       "      <td>0</td>\n",
       "      <td>1</td>\n",
       "      <td>1</td>\n",
       "      <td>1</td>\n",
       "    </tr>\n",
       "    <tr>\n",
       "      <th>1</th>\n",
       "      <td>1</td>\n",
       "      <td>0</td>\n",
       "      <td>1</td>\n",
       "      <td>1</td>\n",
       "      <td>0</td>\n",
       "      <td>1</td>\n",
       "    </tr>\n",
       "    <tr>\n",
       "      <th>2</th>\n",
       "      <td>1</td>\n",
       "      <td>1</td>\n",
       "      <td>1</td>\n",
       "      <td>1</td>\n",
       "      <td>1</td>\n",
       "      <td>1</td>\n",
       "    </tr>\n",
       "    <tr>\n",
       "      <th>3</th>\n",
       "      <td>1</td>\n",
       "      <td>1</td>\n",
       "      <td>1</td>\n",
       "      <td>1</td>\n",
       "      <td>1</td>\n",
       "      <td>1</td>\n",
       "    </tr>\n",
       "    <tr>\n",
       "      <th>4</th>\n",
       "      <td>1</td>\n",
       "      <td>1</td>\n",
       "      <td>1</td>\n",
       "      <td>1</td>\n",
       "      <td>1</td>\n",
       "      <td>1</td>\n",
       "    </tr>\n",
       "  </tbody>\n",
       "</table>\n",
       "</div>"
      ],
      "text/plain": [
       "   x1,Obesity(1/0)  x2,Decreased appetite (1/0)  \\\n",
       "0                1                            1   \n",
       "1                1                            0   \n",
       "2                1                            1   \n",
       "3                1                            1   \n",
       "4                1                            1   \n",
       "\n",
       "   x3, More low-pitched meows(1/0)  x4, Poor grooming (1/0)  \\\n",
       "0                                0                        1   \n",
       "1                                1                        1   \n",
       "2                                1                        1   \n",
       "3                                1                        1   \n",
       "4                                1                        1   \n",
       "\n",
       "   x5, Lack of energy(1/0)  y, depressed or not(1/0)  \n",
       "0                        1                         1  \n",
       "1                        0                         1  \n",
       "2                        1                         1  \n",
       "3                        1                         1  \n",
       "4                        1                         1  "
      ]
     },
     "execution_count": 3,
     "metadata": {},
     "output_type": "execute_result"
    }
   ],
   "source": [
    "#df = df[[\"Owner\", \"x1,Obesity\", \"x2,Decreased appetite\", \"x3, More low-pitched meows(1/0)\", \"x4,Poor grooming\", \"x5, lost of interest in playing\", \"y, depressed or not\"]]\n",
    "df = df.rename({\"x5, lost of interest in playing\": \"x5, Lack of energy(1/0)\"}, axis=1)\n",
    "df.head()"
   ]
  },
  {
   "cell_type": "code",
   "execution_count": 4,
   "id": "e4b0a33e",
   "metadata": {},
   "outputs": [
    {
     "data": {
      "text/html": [
       "<div>\n",
       "<style scoped>\n",
       "    .dataframe tbody tr th:only-of-type {\n",
       "        vertical-align: middle;\n",
       "    }\n",
       "\n",
       "    .dataframe tbody tr th {\n",
       "        vertical-align: top;\n",
       "    }\n",
       "\n",
       "    .dataframe thead th {\n",
       "        text-align: right;\n",
       "    }\n",
       "</style>\n",
       "<table border=\"1\" class=\"dataframe\">\n",
       "  <thead>\n",
       "    <tr style=\"text-align: right;\">\n",
       "      <th></th>\n",
       "      <th>x1,Obesity(1/0)</th>\n",
       "      <th>x2,Decreased appetite (1/0)</th>\n",
       "      <th>x3, More low-pitched meows(1/0)</th>\n",
       "      <th>x4, Poor grooming (1/0)</th>\n",
       "      <th>x5, Lack of energy(1/0)</th>\n",
       "      <th>y, depressed or not(1/0)</th>\n",
       "    </tr>\n",
       "  </thead>\n",
       "  <tbody>\n",
       "    <tr>\n",
       "      <th>0</th>\n",
       "      <td>1</td>\n",
       "      <td>1</td>\n",
       "      <td>0</td>\n",
       "      <td>1</td>\n",
       "      <td>1</td>\n",
       "      <td>1</td>\n",
       "    </tr>\n",
       "    <tr>\n",
       "      <th>1</th>\n",
       "      <td>1</td>\n",
       "      <td>0</td>\n",
       "      <td>1</td>\n",
       "      <td>1</td>\n",
       "      <td>0</td>\n",
       "      <td>1</td>\n",
       "    </tr>\n",
       "    <tr>\n",
       "      <th>2</th>\n",
       "      <td>1</td>\n",
       "      <td>1</td>\n",
       "      <td>1</td>\n",
       "      <td>1</td>\n",
       "      <td>1</td>\n",
       "      <td>1</td>\n",
       "    </tr>\n",
       "    <tr>\n",
       "      <th>3</th>\n",
       "      <td>1</td>\n",
       "      <td>1</td>\n",
       "      <td>1</td>\n",
       "      <td>1</td>\n",
       "      <td>1</td>\n",
       "      <td>1</td>\n",
       "    </tr>\n",
       "    <tr>\n",
       "      <th>4</th>\n",
       "      <td>1</td>\n",
       "      <td>1</td>\n",
       "      <td>1</td>\n",
       "      <td>1</td>\n",
       "      <td>1</td>\n",
       "      <td>1</td>\n",
       "    </tr>\n",
       "  </tbody>\n",
       "</table>\n",
       "</div>"
      ],
      "text/plain": [
       "   x1,Obesity(1/0)  x2,Decreased appetite (1/0)  \\\n",
       "0                1                            1   \n",
       "1                1                            0   \n",
       "2                1                            1   \n",
       "3                1                            1   \n",
       "4                1                            1   \n",
       "\n",
       "   x3, More low-pitched meows(1/0)  x4, Poor grooming (1/0)  \\\n",
       "0                                0                        1   \n",
       "1                                1                        1   \n",
       "2                                1                        1   \n",
       "3                                1                        1   \n",
       "4                                1                        1   \n",
       "\n",
       "   x5, Lack of energy(1/0)  y, depressed or not(1/0)  \n",
       "0                        1                         1  \n",
       "1                        0                         1  \n",
       "2                        1                         1  \n",
       "3                        1                         1  \n",
       "4                        1                         1  "
      ]
     },
     "execution_count": 4,
     "metadata": {},
     "output_type": "execute_result"
    }
   ],
   "source": [
    "df = df[df[\"x1,Obesity(1/0)\"].notnull()]\n",
    "df.head()"
   ]
  },
  {
   "cell_type": "code",
   "execution_count": 5,
   "id": "9599c625",
   "metadata": {},
   "outputs": [
    {
     "data": {
      "text/plain": [
       "<AxesSubplot:xlabel='y, depressed or not(1/0)', ylabel='count'>"
      ]
     },
     "execution_count": 5,
     "metadata": {},
     "output_type": "execute_result"
    },
    {
     "data": {
      "image/png": "[encoded data removed]",
      "text/plain": [
       "<Figure size 432x288 with 1 Axes>"
      ]
     },
     "metadata": {
      "needs_background": "light"
     },
     "output_type": "display_data"
    }
   ],
   "source": [
    "import seaborn as sns\n",
    "sns.countplot(x='y, depressed or not(1/0)', hue='x1,Obesity(1/0)', data=df)"
   ]
  },
  {
   "cell_type": "code",
   "execution_count": 6,
   "id": "129a73ca",
   "metadata": {},
   "outputs": [
    {
     "data": {
      "text/plain": [
       "<AxesSubplot:xlabel='y, depressed or not(1/0)', ylabel='count'>"
      ]
     },
     "execution_count": 6,
     "metadata": {},
     "output_type": "execute_result"
    },
    {
     "data": {
      "image/png": "[encoded data removed]",
      "text/plain": [
       "<Figure size 432x288 with 1 Axes>"
      ]
     },
     "metadata": {
      "needs_background": "light"
     },
     "output_type": "display_data"
    }
   ],
   "source": [
    "sns.countplot(x='y, depressed or not(1/0)', hue='x2,Decreased appetite (1/0)', data=df)"
   ]
  },
  {
   "cell_type": "code",
   "execution_count": 7,
   "id": "e80c6aeb",
   "metadata": {},
   "outputs": [
    {
     "data": {
      "text/plain": [
       "<AxesSubplot:xlabel='y, depressed or not(1/0)', ylabel='count'>"
      ]
     },
     "execution_count": 7,
     "metadata": {},
     "output_type": "execute_result"
    },
    {
     "data": {
      "image/png": "[encoded data removed]",
      "text/plain": [
       "<Figure size 432x288 with 1 Axes>"
      ]
     },
     "metadata": {
      "needs_background": "light"
     },
     "output_type": "display_data"
    }
   ],
   "source": [
    "sns.countplot(x='y, depressed or not(1/0)', hue='x3, More low-pitched meows(1/0)', data=df)"
   ]
  },
  {
   "cell_type": "code",
   "execution_count": 8,
   "id": "0490cdc4",
   "metadata": {},
   "outputs": [
    {
     "data": {
      "text/plain": [
       "<AxesSubplot:xlabel='y, depressed or not(1/0)', ylabel='count'>"
      ]
     },
     "execution_count": 8,
     "metadata": {},
     "output_type": "execute_result"
    },
    {
     "data": {
      "image/png": "[encoded data removed]",
      "text/plain": [
       "<Figure size 432x288 with 1 Axes>"
      ]
     },
     "metadata": {
      "needs_background": "light"
     },
     "output_type": "display_data"
    }
   ],
   "source": [
    "sns.countplot(x='y, depressed or not(1/0)', hue='x4, Poor grooming (1/0)' , data=df)"
   ]
  },
  {
   "cell_type": "code",
   "execution_count": 9,
   "id": "11ff49bf",
   "metadata": {},
   "outputs": [
    {
     "data": {
      "text/plain": [
       "<AxesSubplot:xlabel='y, depressed or not(1/0)', ylabel='count'>"
      ]
     },
     "execution_count": 9,
     "metadata": {},
     "output_type": "execute_result"
    },
    {
     "data": {
      "image/png": "[encoded data removed]",
      "text/plain": [
       "<Figure size 432x288 with 1 Axes>"
      ]
     },
     "metadata": {
      "needs_background": "light"
     },
     "output_type": "display_data"
    }
   ],
   "source": [
    "sns.countplot(x='y, depressed or not(1/0)', hue='x5, Lack of energy(1/0)', data=df)"
   ]
  },
  {
   "cell_type": "code",
   "execution_count": 10,
   "id": "9eba79f0",
   "metadata": {},
   "outputs": [
    {
     "name": "stdout",
     "output_type": "stream",
     "text": [
      "<class 'pandas.core.frame.DataFrame'>\n",
      "Int64Index: 315 entries, 0 to 314\n",
      "Data columns (total 6 columns):\n",
      " #   Column                           Non-Null Count  Dtype\n",
      "---  ------                           --------------  -----\n",
      " 0   x1,Obesity(1/0)                  315 non-null    int64\n",
      " 1   x2,Decreased appetite (1/0)      315 non-null    int64\n",
      " 2   x3, More low-pitched meows(1/0)  315 non-null    int64\n",
      " 3   x4, Poor grooming (1/0)          315 non-null    int64\n",
      " 4   x5, Lack of energy(1/0)          315 non-null    int64\n",
      " 5   y, depressed or not(1/0)         315 non-null    int64\n",
      "dtypes: int64(6)\n",
      "memory usage: 25.3 KB\n"
     ]
    }
   ],
   "source": [
    "df.info()"
   ]
  },
  {
   "cell_type": "code",
   "execution_count": 11,
   "id": "172fc379",
   "metadata": {},
   "outputs": [
    {
     "data": {
      "text/plain": [
       "x1,Obesity(1/0)                    0\n",
       "x2,Decreased appetite (1/0)        0\n",
       "x3, More low-pitched meows(1/0)    0\n",
       "x4, Poor grooming (1/0)            0\n",
       "x5, Lack of energy(1/0)            0\n",
       "y, depressed or not(1/0)           0\n",
       "dtype: int64"
      ]
     },
     "execution_count": 11,
     "metadata": {},
     "output_type": "execute_result"
    }
   ],
   "source": [
    "df = df.dropna()\n",
    "df.isnull().sum()"
   ]
  },
  {
   "cell_type": "code",
   "execution_count": 12,
   "id": "e27a01cb",
   "metadata": {},
   "outputs": [
    {
     "name": "stdout",
     "output_type": "stream",
     "text": [
      "     x1,Obesity(1/0)  x2,Decreased appetite (1/0)  \\\n",
      "0                  1                            1   \n",
      "1                  1                            0   \n",
      "2                  1                            1   \n",
      "3                  1                            1   \n",
      "4                  1                            1   \n",
      "..               ...                          ...   \n",
      "310                0                            1   \n",
      "311                0                            0   \n",
      "312                1                            1   \n",
      "313                0                            0   \n",
      "314                1                            1   \n",
      "\n",
      "     x3, More low-pitched meows(1/0)  x4, Poor grooming (1/0)  \\\n",
      "0                                  0                        1   \n",
      "1                                  1                        1   \n",
      "2                                  1                        1   \n",
      "3                                  1                        1   \n",
      "4                                  1                        1   \n",
      "..                               ...                      ...   \n",
      "310                                1                        0   \n",
      "311                                1                        1   \n",
      "312                                0                        1   \n",
      "313                                0                        0   \n",
      "314                                1                        1   \n",
      "\n",
      "     x5, Lack of energy(1/0)  \n",
      "0                          1  \n",
      "1                          0  \n",
      "2                          1  \n",
      "3                          1  \n",
      "4                          1  \n",
      "..                       ...  \n",
      "310                        1  \n",
      "311                        0  \n",
      "312                        0  \n",
      "313                        0  \n",
      "314                        1  \n",
      "\n",
      "[315 rows x 5 columns]\n"
     ]
    }
   ],
   "source": [
    "x = df.drop(\"y, depressed or not(1/0)\", axis=1)\n",
    "\n",
    "y = df[\"y, depressed or not(1/0)\"]\n",
    "print(x)"
   ]
  },
  {
   "cell_type": "markdown",
   "id": "2a3091df",
   "metadata": {},
   "source": [
    "## Split data into Test and Train to measure accuracy score"
   ]
  },
  {
   "cell_type": "code",
   "execution_count": 13,
   "id": "35f10ea1",
   "metadata": {},
   "outputs": [
    {
     "name": "stdout",
     "output_type": "stream",
     "text": [
      "(211, 5) (104, 5) (211,) (104,)\n"
     ]
    }
   ],
   "source": [
    "from sklearn import preprocessing\n",
    "from sklearn.model_selection import train_test_split\n",
    "#!pip install imbalanced-learn\n",
    "\n",
    "from imblearn.over_sampling import SMOTE\n",
    "\n",
    "X_train, X_test, y_train, y_test = train_test_split(x, y, test_size=0.33, random_state=0)\n",
    "print(X_train.shape, X_test.shape, y_train.shape, y_test.shape)\n"
   ]
  },
  {
   "cell_type": "markdown",
   "id": "affe584a",
   "metadata": {},
   "source": [
    "## Logistic Regression using sklearn library"
   ]
  },
  {
   "cell_type": "code",
   "execution_count": 14,
   "id": "1cf2acea",
   "metadata": {},
   "outputs": [
    {
     "data": {
      "text/html": [
       "<style>#sk-container-id-1 {color: black;background-color: white;}#sk-container-id-1 pre{padding: 0;}#sk-container-id-1 div.sk-toggleable {background-color: white;}#sk-container-id-1 label.sk-toggleable__label {cursor: pointer;display: block;width: 100%;margin-bottom: 0;padding: 0.3em;box-sizing: border-box;text-align: center;}#sk-container-id-1 label.sk-toggleable__label-arrow:before {content: \"▸\";float: left;margin-right: 0.25em;color: #696969;}#sk-container-id-1 label.sk-toggleable__label-arrow:hover:before {color: black;}#sk-container-id-1 div.sk-estimator:hover label.sk-toggleable__label-arrow:before {color: black;}#sk-container-id-1 div.sk-toggleable__content {max-height: 0;max-width: 0;overflow: hidden;text-align: left;background-color: #f0f8ff;}#sk-container-id-1 div.sk-toggleable__content pre {margin: 0.2em;color: black;border-radius: 0.25em;background-color: #f0f8ff;}#sk-container-id-1 input.sk-toggleable__control:checked~div.sk-toggleable__content {max-height: 200px;max-width: 100%;overflow: auto;}#sk-container-id-1 input.sk-toggleable__control:checked~label.sk-toggleable__label-arrow:before {content: \"▾\";}#sk-container-id-1 div.sk-estimator input.sk-toggleable__control:checked~label.sk-toggleable__label {background-color: #d4ebff;}#sk-container-id-1 div.sk-label input.sk-toggleable__control:checked~label.sk-toggleable__label {background-color: #d4ebff;}#sk-container-id-1 input.sk-hidden--visually {border: 0;clip: rect(1px 1px 1px 1px);clip: rect(1px, 1px, 1px, 1px);height: 1px;margin: -1px;overflow: hidden;padding: 0;position: absolute;width: 1px;}#sk-container-id-1 div.sk-estimator {font-family: monospace;background-color: #f0f8ff;border: 1px dotted black;border-radius: 0.25em;box-sizing: border-box;margin-bottom: 0.5em;}#sk-container-id-1 div.sk-estimator:hover {background-color: #d4ebff;}#sk-container-id-1 div.sk-parallel-item::after {content: \"\";width: 100%;border-bottom: 1px solid gray;flex-grow: 1;}#sk-container-id-1 div.sk-label:hover label.sk-toggleable__label {background-color: #d4ebff;}#sk-container-id-1 div.sk-serial::before {content: \"\";position: absolute;border-left: 1px solid gray;box-sizing: border-box;top: 0;bottom: 0;left: 50%;z-index: 0;}#sk-container-id-1 div.sk-serial {display: flex;flex-direction: column;align-items: center;background-color: white;padding-right: 0.2em;padding-left: 0.2em;position: relative;}#sk-container-id-1 div.sk-item {position: relative;z-index: 1;}#sk-container-id-1 div.sk-parallel {display: flex;align-items: stretch;justify-content: center;background-color: white;position: relative;}#sk-container-id-1 div.sk-item::before, #sk-container-id-1 div.sk-parallel-item::before {content: \"\";position: absolute;border-left: 1px solid gray;box-sizing: border-box;top: 0;bottom: 0;left: 50%;z-index: -1;}#sk-container-id-1 div.sk-parallel-item {display: flex;flex-direction: column;z-index: 1;position: relative;background-color: white;}#sk-container-id-1 div.sk-parallel-item:first-child::after {align-self: flex-end;width: 50%;}#sk-container-id-1 div.sk-parallel-item:last-child::after {align-self: flex-start;width: 50%;}#sk-container-id-1 div.sk-parallel-item:only-child::after {width: 0;}#sk-container-id-1 div.sk-dashed-wrapped {border: 1px dashed gray;margin: 0 0.4em 0.5em 0.4em;box-sizing: border-box;padding-bottom: 0.4em;background-color: white;}#sk-container-id-1 div.sk-label label {font-family: monospace;font-weight: bold;display: inline-block;line-height: 1.2em;}#sk-container-id-1 div.sk-label-container {text-align: center;}#sk-container-id-1 div.sk-container {/* jupyter's `normalize.less` sets `[hidden] { display: none; }` but bootstrap.min.css set `[hidden] { display: none !important; }` so we also need the `!important` here to be able to override the default hidden behavior on the sphinx rendered scikit-learn.org. See: https://github.com/scikit-learn/scikit-learn/issues/21755 */display: inline-block !important;position: relative;}#sk-container-id-1 div.sk-text-repr-fallback {display: none;}</style><div id=\"sk-container-id-1\" class=\"sk-top-container\"><div class=\"sk-text-repr-fallback\"><pre>LogisticRegression()</pre><b>In a Jupyter environment, please rerun this cell to show the HTML representation or trust the notebook. <br />On GitHub, the HTML representation is unable to render, please try loading this page with nbviewer.org.</b></div><div class=\"sk-container\" hidden><div class=\"sk-item\"><div class=\"sk-estimator sk-toggleable\"><input class=\"sk-toggleable__control sk-hidden--visually\" id=\"sk-estimator-id-1\" type=\"checkbox\" checked><label for=\"sk-estimator-id-1\" class=\"sk-toggleable__label sk-toggleable__label-arrow\">LogisticRegression</label><div class=\"sk-toggleable__content\"><pre>LogisticRegression()</pre></div></div></div></div></div>"
      ],
      "text/plain": [
       "LogisticRegression()"
      ]
     },
     "execution_count": 14,
     "metadata": {},
     "output_type": "execute_result"
    }
   ],
   "source": [
    "from sklearn.linear_model import LogisticRegression\n",
    "\n",
    "# instatiate model\n",
    "logreg = LogisticRegression()\n",
    "logreg.fit(X_train, y_train)"
   ]
  },
  {
   "cell_type": "code",
   "execution_count": 15,
   "id": "8720faf0",
   "metadata": {},
   "outputs": [],
   "source": [
    "#getting predictions using model\n",
    "y_pred = logreg.predict(X_test)"
   ]
  },
  {
   "cell_type": "code",
   "execution_count": 16,
   "id": "8541cb88",
   "metadata": {},
   "outputs": [
    {
     "data": {
      "text/plain": [
       "0.8846153846153846"
      ]
     },
     "execution_count": 16,
     "metadata": {},
     "output_type": "execute_result"
    }
   ],
   "source": [
    "# getting accuracy using model scoring\n",
    "logreg.score(X_test, y_test)"
   ]
  },
  {
   "cell_type": "code",
   "execution_count": 17,
   "id": "ce0b1048",
   "metadata": {},
   "outputs": [
    {
     "name": "stdout",
     "output_type": "stream",
     "text": [
      "[[44  5]\n",
      " [ 7 48]]\n"
     ]
    }
   ],
   "source": [
    "##Confusion Matrix\n",
    "#The result is telling us that we have 44+48 correct predictions and 7+5 incorrect predictions.\n",
    "from sklearn.metrics import confusion_matrix\n",
    "confusion_matrix = confusion_matrix(y_test, y_pred)\n",
    "print(confusion_matrix)"
   ]
  },
  {
   "cell_type": "code",
   "execution_count": 18,
   "id": "3e8ddede",
   "metadata": {},
   "outputs": [
    {
     "name": "stdout",
     "output_type": "stream",
     "text": [
      "              precision    recall  f1-score   support\n",
      "\n",
      "           0       0.86      0.90      0.88        49\n",
      "           1       0.91      0.87      0.89        55\n",
      "\n",
      "    accuracy                           0.88       104\n",
      "   macro avg       0.88      0.89      0.88       104\n",
      "weighted avg       0.89      0.88      0.88       104\n",
      "\n"
     ]
    }
   ],
   "source": [
    "# Compute precision, recall, F-measure and support\n",
    "\n",
    "from sklearn.metrics import classification_report\n",
    "print(classification_report(y_test, y_pred))"
   ]
  },
  {
   "cell_type": "code",
   "execution_count": 19,
   "id": "0b1d0d92",
   "metadata": {},
   "outputs": [
    {
     "data": {
      "image/png": "[encoded data removed]",
      "text/plain": [
       "<Figure size 432x288 with 1 Axes>"
      ]
     },
     "metadata": {
      "needs_background": "light"
     },
     "output_type": "display_data"
    }
   ],
   "source": [
    "# ROC curve\n",
    "\n",
    "from sklearn.metrics import roc_auc_score\n",
    "from sklearn.metrics import roc_curve\n",
    "logit_roc_auc = roc_auc_score(y_test, logreg.predict(X_test))\n",
    "fpr, tpr, thresholds = roc_curve(y_test, logreg.predict_proba(X_test)[:,1])\n",
    "plt.figure()\n",
    "plt.plot(fpr, tpr, label='Logistic Regression (area = %0.2f)' % logit_roc_auc)\n",
    "plt.plot([0, 1], [0, 1],'r--')\n",
    "plt.xlim([0.0, 1.0])\n",
    "plt.ylim([0.0, 1.05])\n",
    "plt.xlabel('False Positive Rate')\n",
    "plt.ylabel('True Positive Rate')\n",
    "plt.title('Receiver operating characteristic')\n",
    "plt.legend(loc=\"lower right\")\n",
    "plt.savefig('Log_ROC')\n",
    "plt.show()"
   ]
  },
  {
   "cell_type": "code",
   "execution_count": 20,
   "id": "71bf4254",
   "metadata": {},
   "outputs": [
    {
     "data": {
      "text/html": [
       "<div>\n",
       "<style scoped>\n",
       "    .dataframe tbody tr th:only-of-type {\n",
       "        vertical-align: middle;\n",
       "    }\n",
       "\n",
       "    .dataframe tbody tr th {\n",
       "        vertical-align: top;\n",
       "    }\n",
       "\n",
       "    .dataframe thead th {\n",
       "        text-align: right;\n",
       "    }\n",
       "</style>\n",
       "<table border=\"1\" class=\"dataframe\">\n",
       "  <thead>\n",
       "    <tr style=\"text-align: right;\">\n",
       "      <th></th>\n",
       "      <th>x1,Obesity(1/0)</th>\n",
       "      <th>x2,Decreased appetite (1/0)</th>\n",
       "      <th>x3, More low-pitched meows(1/0)</th>\n",
       "      <th>x4, Poor grooming (1/0)</th>\n",
       "      <th>x5, Lack of energy(1/0)</th>\n",
       "    </tr>\n",
       "  </thead>\n",
       "  <tbody>\n",
       "    <tr>\n",
       "      <th>0</th>\n",
       "      <td>1</td>\n",
       "      <td>1</td>\n",
       "      <td>0</td>\n",
       "      <td>1</td>\n",
       "      <td>1</td>\n",
       "    </tr>\n",
       "    <tr>\n",
       "      <th>1</th>\n",
       "      <td>1</td>\n",
       "      <td>0</td>\n",
       "      <td>1</td>\n",
       "      <td>1</td>\n",
       "      <td>0</td>\n",
       "    </tr>\n",
       "    <tr>\n",
       "      <th>2</th>\n",
       "      <td>1</td>\n",
       "      <td>1</td>\n",
       "      <td>1</td>\n",
       "      <td>1</td>\n",
       "      <td>1</td>\n",
       "    </tr>\n",
       "    <tr>\n",
       "      <th>3</th>\n",
       "      <td>1</td>\n",
       "      <td>1</td>\n",
       "      <td>1</td>\n",
       "      <td>1</td>\n",
       "      <td>1</td>\n",
       "    </tr>\n",
       "    <tr>\n",
       "      <th>4</th>\n",
       "      <td>1</td>\n",
       "      <td>1</td>\n",
       "      <td>1</td>\n",
       "      <td>1</td>\n",
       "      <td>1</td>\n",
       "    </tr>\n",
       "    <tr>\n",
       "      <th>...</th>\n",
       "      <td>...</td>\n",
       "      <td>...</td>\n",
       "      <td>...</td>\n",
       "      <td>...</td>\n",
       "      <td>...</td>\n",
       "    </tr>\n",
       "    <tr>\n",
       "      <th>310</th>\n",
       "      <td>0</td>\n",
       "      <td>1</td>\n",
       "      <td>1</td>\n",
       "      <td>0</td>\n",
       "      <td>1</td>\n",
       "    </tr>\n",
       "    <tr>\n",
       "      <th>311</th>\n",
       "      <td>0</td>\n",
       "      <td>0</td>\n",
       "      <td>1</td>\n",
       "      <td>1</td>\n",
       "      <td>0</td>\n",
       "    </tr>\n",
       "    <tr>\n",
       "      <th>312</th>\n",
       "      <td>1</td>\n",
       "      <td>1</td>\n",
       "      <td>0</td>\n",
       "      <td>1</td>\n",
       "      <td>0</td>\n",
       "    </tr>\n",
       "    <tr>\n",
       "      <th>313</th>\n",
       "      <td>0</td>\n",
       "      <td>0</td>\n",
       "      <td>0</td>\n",
       "      <td>0</td>\n",
       "      <td>0</td>\n",
       "    </tr>\n",
       "    <tr>\n",
       "      <th>314</th>\n",
       "      <td>1</td>\n",
       "      <td>1</td>\n",
       "      <td>1</td>\n",
       "      <td>1</td>\n",
       "      <td>1</td>\n",
       "    </tr>\n",
       "  </tbody>\n",
       "</table>\n",
       "<p>315 rows × 5 columns</p>\n",
       "</div>"
      ],
      "text/plain": [
       "     x1,Obesity(1/0)  x2,Decreased appetite (1/0)  \\\n",
       "0                  1                            1   \n",
       "1                  1                            0   \n",
       "2                  1                            1   \n",
       "3                  1                            1   \n",
       "4                  1                            1   \n",
       "..               ...                          ...   \n",
       "310                0                            1   \n",
       "311                0                            0   \n",
       "312                1                            1   \n",
       "313                0                            0   \n",
       "314                1                            1   \n",
       "\n",
       "     x3, More low-pitched meows(1/0)  x4, Poor grooming (1/0)  \\\n",
       "0                                  0                        1   \n",
       "1                                  1                        1   \n",
       "2                                  1                        1   \n",
       "3                                  1                        1   \n",
       "4                                  1                        1   \n",
       "..                               ...                      ...   \n",
       "310                                1                        0   \n",
       "311                                1                        1   \n",
       "312                                0                        1   \n",
       "313                                0                        0   \n",
       "314                                1                        1   \n",
       "\n",
       "     x5, Lack of energy(1/0)  \n",
       "0                          1  \n",
       "1                          0  \n",
       "2                          1  \n",
       "3                          1  \n",
       "4                          1  \n",
       "..                       ...  \n",
       "310                        1  \n",
       "311                        0  \n",
       "312                        0  \n",
       "313                        0  \n",
       "314                        1  \n",
       "\n",
       "[315 rows x 5 columns]"
      ]
     },
     "execution_count": 20,
     "metadata": {},
     "output_type": "execute_result"
    }
   ],
   "source": [
    "x"
   ]
  },
  {
   "cell_type": "code",
   "execution_count": 21,
   "id": "15f1ce80",
   "metadata": {},
   "outputs": [
    {
     "data": {
      "text/plain": [
       "array([[1, 1, 0, 1, 1]])"
      ]
     },
     "execution_count": 21,
     "metadata": {},
     "output_type": "execute_result"
    }
   ],
   "source": [
    "import numpy as np\n",
    "\n",
    "x = np.array([[1, 1, 0, 1, 1]])\n",
    "x"
   ]
  },
  {
   "cell_type": "markdown",
   "id": "bab002f1",
   "metadata": {},
   "source": [
    "## Label variable and fit into value 0 or 1"
   ]
  },
  {
   "cell_type": "code",
   "execution_count": 22,
   "id": "36d1bf73",
   "metadata": {},
   "outputs": [
    {
     "data": {
      "text/plain": [
       "array([[1, 1, 0, 1, 1]])"
      ]
     },
     "execution_count": 22,
     "metadata": {},
     "output_type": "execute_result"
    }
   ],
   "source": [
    "from sklearn.preprocessing import LabelEncoder\n",
    "le_obesity = LabelEncoder()\n",
    "le_obesity.fit(y)\n",
    "le_appetite = LabelEncoder()\n",
    "le_appetite.fit(y)\n",
    "le_meow = LabelEncoder()\n",
    "le_meow.fit(y)\n",
    "le_grooming = LabelEncoder()\n",
    "le_grooming.fit(y)\n",
    "le_energy = LabelEncoder()\n",
    "le_energy.fit(y)\n",
    "x[:, 0] = le_obesity.transform(x[:, 0])\n",
    "x[:, 1] = le_appetite.transform(x[:, 1])\n",
    "x[:, 2] = le_meow.transform(x[:, 2])\n",
    "x[:, 3] = le_grooming.transform(x[:, 3])\n",
    "x[:, 4] = le_energy.transform(x[:, 4])\n",
    "x = x.astype(int)\n",
    "x"
   ]
  },
  {
   "cell_type": "code",
   "execution_count": 23,
   "id": "54c7c339",
   "metadata": {},
   "outputs": [
    {
     "name": "stderr",
     "output_type": "stream",
     "text": [
      "C:\\Users\\Sahira\\anaconda3\\lib\\site-packages\\sklearn\\base.py:450: UserWarning: X does not have valid feature names, but LogisticRegression was fitted with feature names\n",
      "  warnings.warn(\n"
     ]
    },
    {
     "data": {
      "text/plain": [
       "array([1], dtype=int64)"
      ]
     },
     "execution_count": 23,
     "metadata": {},
     "output_type": "execute_result"
    }
   ],
   "source": [
    "y_pred = logreg.predict(x)\n",
    "y_pred"
   ]
  },
  {
   "cell_type": "markdown",
   "id": "57f149b9",
   "metadata": {},
   "source": [
    "## Connect model with app"
   ]
  },
  {
   "cell_type": "code",
   "execution_count": 24,
   "id": "5f0655d7",
   "metadata": {},
   "outputs": [],
   "source": [
    "import pickle"
   ]
  },
  {
   "cell_type": "code",
   "execution_count": 25,
   "id": "e342fae0",
   "metadata": {},
   "outputs": [],
   "source": [
    "data = {\"model\": logreg, \"le_obesity\": le_obesity, \"le_appetite\":le_appetite, \"le_meow\":le_meow, \"le_grooming\":le_grooming, \"le_energy\":le_energy}\n",
    "with open('saved_steps.pkl', 'wb') as file:\n",
    "    pickle.dump(data, file)"
   ]
  },
  {
   "cell_type": "code",
   "execution_count": 26,
   "id": "230d01e1",
   "metadata": {},
   "outputs": [],
   "source": [
    "with open('saved_steps.pkl', 'rb') as file:\n",
    "    data = pickle.load(file)\n",
    "    \n",
    "regressor_loaded = data[\"model\"]\n",
    "le_obesity = data[\"le_obesity\"]\n",
    "le_appetite = data[\"le_appetite\"]\n",
    "le_meow = data[\"le_meow\"]\n",
    "le_grooming = data[\"le_grooming\"]\n",
    "le_energy = data[\"le_energy\"]"
   ]
  },
  {
   "cell_type": "code",
   "execution_count": 27,
   "id": "bda7c302",
   "metadata": {},
   "outputs": [
    {
     "name": "stderr",
     "output_type": "stream",
     "text": [
      "C:\\Users\\Sahira\\anaconda3\\lib\\site-packages\\sklearn\\base.py:450: UserWarning: X does not have valid feature names, but LogisticRegression was fitted with feature names\n",
      "  warnings.warn(\n"
     ]
    },
    {
     "data": {
      "text/plain": [
       "array([1], dtype=int64)"
      ]
     },
     "execution_count": 27,
     "metadata": {},
     "output_type": "execute_result"
    }
   ],
   "source": [
    "y_pred = logreg.predict(x)\n",
    "y_pred"
   ]
  },
  {
   "cell_type": "code",
   "execution_count": null,
   "id": "e4e10ba7",
   "metadata": {},
   "outputs": [],
   "source": []
  }
 ],
 "metadata": {
  "kernelspec": {
   "display_name": "Python 3 (ipykernel)",
   "language": "python",
   "name": "python3"
  },
  "language_info": {
   "codemirror_mode": {
    "name": "ipython",
    "version": 3
   },
   "file_extension": ".py",
   "mimetype": "text/x-python",
   "name": "python",
   "nbconvert_exporter": "python",
   "pygments_lexer": "ipython3",
   "version": "3.9.7"
  }
 },
 "nbformat": 4,
 "nbformat_minor": 5
}
